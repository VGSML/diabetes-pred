{
 "cells": [
  {
   "cell_type": "code",
   "metadata": {
    "ExecuteTime": {
     "end_time": "2025-03-06T14:20:30.035002Z",
     "start_time": "2025-03-06T14:20:28.989374Z"
    }
   },
   "source": [
    "import torch\n",
    "from torch import nn\n",
    "from rnn import RiskOfReadmissionRNN\n",
    "\n",
    "print(f\"torch version: {torch.__version__}\")\n",
    "\n",
    "# Check PyTorch has access to MPS (Metal Performance Shader, Apple's GPU architecture)\n",
    "print(f\"Is MPS (Metal Performance Shader) built? {torch.backends.mps.is_built()}\")\n",
    "print(f\"Is MPS available? {torch.backends.mps.is_available()}\")\n",
    "\n",
    "\n",
    "gcModel = RiskOfReadmissionRNN(static_feature_dim=24, dynamic_feature_dim=4096, hidden_dim=64, num_layers=3, use_attention=True)"
   ],
   "outputs": [
    {
     "name": "stdout",
     "output_type": "stream",
     "text": [
      "torch version: 2.2.1+cu121\n",
      "Is MPS (Metal Performance Shader) built? False\n",
      "Is MPS available? False\n"
     ]
    }
   ],
   "execution_count": 1
  },
  {
   "cell_type": "code",
   "metadata": {
    "ExecuteTime": {
     "end_time": "2025-03-06T14:20:56.953168Z",
     "start_time": "2025-03-06T14:20:56.949736Z"
    }
   },
   "source": [
    "print(gcModel)"
   ],
   "outputs": [
    {
     "name": "stdout",
     "output_type": "stream",
     "text": [
      "RiskOfReadmissionRNN(\n",
      "  (rnn_with_attention): RNNWithAttention(\n",
      "    (attention): SelfAttention(\n",
      "      (query): Linear(in_features=4096, out_features=4096, bias=True)\n",
      "      (key): Linear(in_features=4096, out_features=4096, bias=True)\n",
      "      (value): Linear(in_features=4096, out_features=4096, bias=True)\n",
      "    )\n",
      "    (rnn): LSTM(4096, 64, num_layers=3, batch_first=True)\n",
      "    (fc_static): Linear(in_features=24, out_features=64, bias=True)\n",
      "    (fc_combined): Linear(in_features=128, out_features=64, bias=True)\n",
      "    (classifier): Linear(in_features=64, out_features=2, bias=True)\n",
      "    (dropout): Dropout(p=0.5, inplace=False)\n",
      "  )\n",
      ")\n"
     ]
    }
   ],
   "execution_count": 2
  },
  {
   "cell_type": "code",
   "metadata": {
    "ExecuteTime": {
     "end_time": "2025-03-06T14:21:58.708001Z",
     "start_time": "2025-03-06T14:21:58.607945Z"
    }
   },
   "source": [
    "from pytorch_model_summary import summary\n",
    "\n",
    "summary(gcModel, torch.zeros((5, 24)), torch.zeros((5, 36, 4096)))"
   ],
   "outputs": [
    {
     "ename": "ModuleNotFoundError",
     "evalue": "No module named 'pytorch_model_summary'",
     "output_type": "error",
     "traceback": [
      "\u001B[0;31m---------------------------------------------------------------------------\u001B[0m",
      "\u001B[0;31mModuleNotFoundError\u001B[0m                       Traceback (most recent call last)",
      "Cell \u001B[0;32mIn[3], line 1\u001B[0m\n\u001B[0;32m----> 1\u001B[0m \u001B[38;5;28;01mfrom\u001B[39;00m\u001B[38;5;250m \u001B[39m\u001B[38;5;21;01mpytorch_model_summary\u001B[39;00m\u001B[38;5;250m \u001B[39m\u001B[38;5;28;01mimport\u001B[39;00m summary\n\u001B[1;32m      3\u001B[0m summary(gcModel, torch\u001B[38;5;241m.\u001B[39mzeros((\u001B[38;5;241m5\u001B[39m, \u001B[38;5;241m24\u001B[39m)), torch\u001B[38;5;241m.\u001B[39mzeros((\u001B[38;5;241m5\u001B[39m, \u001B[38;5;241m36\u001B[39m, \u001B[38;5;241m4096\u001B[39m)))\n",
      "\u001B[0;31mModuleNotFoundError\u001B[0m: No module named 'pytorch_model_summary'"
     ]
    }
   ],
   "execution_count": 3
  },
  {
   "cell_type": "code",
   "metadata": {
    "ExecuteTime": {
     "end_time": "2025-03-06T14:22:30.132251Z",
     "start_time": "2025-03-06T14:22:29.782501Z"
    }
   },
   "source": [
    "# Пример данных\n",
    "batch_size = 32\n",
    "static_feature_dim = 40\n",
    "dynamic_feature_dim = 4000\n",
    "sequence_length = 36\n",
    "\n",
    "# Создание модели\n",
    "model = RiskOfReadmissionRNN(\n",
    "    static_feature_dim=static_feature_dim,\n",
    "    dynamic_feature_dim=dynamic_feature_dim,\n",
    "    # sequence_length=sequence_length,\n",
    "    num_layers=3,\n",
    "    hidden_dim=64,\n",
    "    use_attention=True\n",
    ")\n",
    "\n",
    "# Входные данные\n",
    "static_data = torch.randn(batch_size, static_feature_dim)\n",
    "dynamic_data = torch.randn(batch_size, sequence_length, dynamic_feature_dim)\n",
    "\n",
    "# Прямой проход\n",
    "output = model(static_data, dynamic_data)\n",
    "print(output.shape)"
   ],
   "outputs": [
    {
     "name": "stdout",
     "output_type": "stream",
     "text": [
      "torch.Size([32, 2])\n"
     ]
    }
   ],
   "execution_count": 6
  }
 ],
 "metadata": {
  "kernelspec": {
   "display_name": "esgpt",
   "language": "python",
   "name": "python3"
  },
  "language_info": {
   "codemirror_mode": {
    "name": "ipython",
    "version": 3
   },
   "file_extension": ".py",
   "mimetype": "text/x-python",
   "name": "python",
   "nbconvert_exporter": "python",
   "pygments_lexer": "ipython3",
   "version": "3.11.9"
  }
 },
 "nbformat": 4,
 "nbformat_minor": 2
}
