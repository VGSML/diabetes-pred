{
 "cells": [
  {
   "cell_type": "code",
   "metadata": {
    "ExecuteTime": {
     "end_time": "2025-03-06T13:38:14.056728Z",
     "start_time": "2025-03-06T13:38:13.991110Z"
    }
   },
   "source": [
    "# preparing data for the model\n",
    "from preprocess import process_config\n",
    "config_path = 'preprocess-config.yaml'\n",
    "\n",
    "process_config(config_path)"
   ],
   "outputs": [
    {
     "name": "stdout",
     "output_type": "stream",
     "text": [
      "Processing data for: {'outcomesFile': '/data/mpetkevich/readmissions/data/DiabetesOutcomes.txt', 'diagnosesFile': '/data/mpetkevich/readmissions/data/DiagnosesICD10.txt', 'proceduresFile': '/data/mpetkevich/readmissions/data/Procedures_NoLabs.txt', 'labsFile': '/data/mpetkevich/readmissions/data/Labs_numeric_lim_unicode.txt', 'diagnosesLimit': 0.01, 'proceduresLimit': 0.01, 'labsLimit': 0.01, 'useNonNumericLabs': False, 'quantizeLabs': True, 'months': 36, 'dbPath': None, 'outputPath': '/data/mpetkevich/readmissions/data/final_data'}\n"
     ]
    },
    {
     "ename": "BinderException",
     "evalue": "Binder Error: Referenced column \"IndexDate\" not found in FROM clause!\nCandidate bindings: \"read_csv.column0\"\nLINE 18:                 (IndexDate::TIMESTAMP - Date::TIMESTAMP BETWEEN INTERVAL '1 month' AND INTERVAL '36 months' OR 36 = 0)\n        )\n        SELECT * \n        FROM data\n        WHERE (subject_count >= 0.0 OR 0.0 = 0);\n    ...\n                          ^",
     "output_type": "error",
     "traceback": [
      "\u001B[0;31m---------------------------------------------------------------------------\u001B[0m",
      "\u001B[0;31mBinderException\u001B[0m                           Traceback (most recent call last)",
      "Cell \u001B[0;32mIn[12], line 5\u001B[0m\n\u001B[1;32m      2\u001B[0m \u001B[38;5;28;01mfrom\u001B[39;00m\u001B[38;5;250m \u001B[39m\u001B[38;5;21;01mpreprocess\u001B[39;00m\u001B[38;5;250m \u001B[39m\u001B[38;5;28;01mimport\u001B[39;00m process_config\n\u001B[1;32m      3\u001B[0m config_path \u001B[38;5;241m=\u001B[39m \u001B[38;5;124m'\u001B[39m\u001B[38;5;124mpreprocess-config.yaml\u001B[39m\u001B[38;5;124m'\u001B[39m\n\u001B[0;32m----> 5\u001B[0m \u001B[43mprocess_config\u001B[49m\u001B[43m(\u001B[49m\u001B[43mconfig_path\u001B[49m\u001B[43m)\u001B[49m\n",
      "File \u001B[0;32m~/projects/diabt/src/readmissions/preprocess.py:60\u001B[0m, in \u001B[0;36mprocess_config\u001B[0;34m(path)\u001B[0m\n\u001B[1;32m     57\u001B[0m cc \u001B[38;5;241m=\u001B[39m load_dataset_config(path)\n\u001B[1;32m     59\u001B[0m \u001B[38;5;28;01mfor\u001B[39;00m c \u001B[38;5;129;01min\u001B[39;00m cc:\n\u001B[0;32m---> 60\u001B[0m     \u001B[43mprocess_data\u001B[49m\u001B[43m(\u001B[49m\u001B[43mc\u001B[49m\u001B[43m)\u001B[49m\n",
      "File \u001B[0;32m~/projects/diabt/src/readmissions/preprocess.py:70\u001B[0m, in \u001B[0;36mprocess_data\u001B[0;34m(conf)\u001B[0m\n\u001B[1;32m     68\u001B[0m createSchema(conn)\n\u001B[1;32m     69\u001B[0m patients \u001B[38;5;241m=\u001B[39m fileRows(conn, conf\u001B[38;5;241m.\u001B[39moutcomesFile)\n\u001B[0;32m---> 70\u001B[0m \u001B[43mloadDynamicData\u001B[49m\u001B[43m(\u001B[49m\u001B[43mconn\u001B[49m\u001B[43m,\u001B[49m\u001B[43m \u001B[49m\u001B[43mconf\u001B[49m\u001B[38;5;241;43m.\u001B[39;49m\u001B[43mdiagnosesFile\u001B[49m\u001B[43m,\u001B[49m\u001B[38;5;124;43m'\u001B[39;49m\u001B[38;5;124;43mdiagnoses\u001B[39;49m\u001B[38;5;124;43m'\u001B[39;49m\u001B[43m,\u001B[49m\u001B[43m \u001B[49m\u001B[43mconf\u001B[49m\u001B[38;5;241;43m.\u001B[39;49m\u001B[43mmonths\u001B[49m\u001B[43m,\u001B[49m\u001B[43m \u001B[49m\u001B[43mpatients\u001B[49m\u001B[38;5;241;43m*\u001B[39;49m\u001B[43mconf\u001B[49m\u001B[38;5;241;43m.\u001B[39;49m\u001B[43mdiagnosesLimit\u001B[49m\u001B[43m)\u001B[49m\n\u001B[1;32m     71\u001B[0m loadDynamicData(conn, conf\u001B[38;5;241m.\u001B[39mproceduresFile, \u001B[38;5;124m'\u001B[39m\u001B[38;5;124mprocedures\u001B[39m\u001B[38;5;124m'\u001B[39m, conf\u001B[38;5;241m.\u001B[39mmonths, patients\u001B[38;5;241m*\u001B[39mconf\u001B[38;5;241m.\u001B[39mproceduresLimit)\n\u001B[1;32m     72\u001B[0m use_labs \u001B[38;5;241m=\u001B[39m \u001B[38;5;28;01mTrue\u001B[39;00m \u001B[38;5;28;01mif\u001B[39;00m conf\u001B[38;5;241m.\u001B[39mlabsFile \u001B[38;5;28;01melse\u001B[39;00m \u001B[38;5;28;01mFalse\u001B[39;00m\n",
      "File \u001B[0;32m~/projects/diabt/src/readmissions/preprocess.py:249\u001B[0m, in \u001B[0;36mloadDynamicData\u001B[0;34m(conn, file_path, table_name, limit_months, limit_count)\u001B[0m\n\u001B[1;32m    247\u001B[0m \u001B[38;5;28;01mdef\u001B[39;00m\u001B[38;5;250m \u001B[39m\u001B[38;5;21mloadDynamicData\u001B[39m(conn: duckdb\u001B[38;5;241m.\u001B[39mDuckDBPyConnection, file_path: \u001B[38;5;28mstr\u001B[39m, table_name: \u001B[38;5;28mstr\u001B[39m, limit_months\u001B[38;5;241m=\u001B[39m\u001B[38;5;241m36\u001B[39m, limit_count\u001B[38;5;241m=\u001B[39m\u001B[38;5;241m0\u001B[39m):\n\u001B[1;32m    248\u001B[0m     conn\u001B[38;5;241m.\u001B[39mquery(\u001B[38;5;124mf\u001B[39m\u001B[38;5;124m\"\u001B[39m\u001B[38;5;124mDROP TABLE IF EXISTS \u001B[39m\u001B[38;5;132;01m{\u001B[39;00mtable_name\u001B[38;5;132;01m}\u001B[39;00m\u001B[38;5;124m;\u001B[39m\u001B[38;5;124m\"\u001B[39m)\n\u001B[0;32m--> 249\u001B[0m     \u001B[43mconn\u001B[49m\u001B[38;5;241;43m.\u001B[39;49m\u001B[43mquery\u001B[49m\u001B[43m(\u001B[49m\u001B[38;5;124;43mf\u001B[39;49m\u001B[38;5;124;43m\"\"\"\u001B[39;49m\n\u001B[1;32m    250\u001B[0m \u001B[38;5;124;43m        CREATE TABLE \u001B[39;49m\u001B[38;5;132;43;01m{\u001B[39;49;00m\u001B[43mtable_name\u001B[49m\u001B[38;5;132;43;01m}\u001B[39;49;00m\u001B[38;5;124;43m AS\u001B[39;49m\n\u001B[1;32m    251\u001B[0m \u001B[38;5;124;43m        WITH data AS (\u001B[39;49m\n\u001B[1;32m    252\u001B[0m \u001B[38;5;124;43m            SELECT \u001B[39;49m\n\u001B[1;32m    253\u001B[0m \u001B[38;5;124;43m                StudyID AS study_id, \u001B[39;49m\n\u001B[1;32m    254\u001B[0m \u001B[38;5;124;43m                Date::TIMESTAMP AS event_date, \u001B[39;49m\n\u001B[1;32m    255\u001B[0m \u001B[38;5;124;43m                (\u001B[39;49m\n\u001B[1;32m    256\u001B[0m \u001B[38;5;124;43m                    extract(\u001B[39;49m\u001B[38;5;124;43m'\u001B[39;49m\u001B[38;5;124;43mmonth\u001B[39;49m\u001B[38;5;124;43m'\u001B[39;49m\u001B[38;5;124;43m from IndexDate::TIMESTAMP) - extract(\u001B[39;49m\u001B[38;5;124;43m'\u001B[39;49m\u001B[38;5;124;43mmonth\u001B[39;49m\u001B[38;5;124;43m'\u001B[39;49m\u001B[38;5;124;43m from Date::TIMESTAMP) +\u001B[39;49m\n\u001B[1;32m    257\u001B[0m \u001B[38;5;124;43m                    12*(extract(\u001B[39;49m\u001B[38;5;124;43m'\u001B[39;49m\u001B[38;5;124;43myear\u001B[39;49m\u001B[38;5;124;43m'\u001B[39;49m\u001B[38;5;124;43m from IndexDate::TIMESTAMP) - extract(\u001B[39;49m\u001B[38;5;124;43m'\u001B[39;49m\u001B[38;5;124;43myear\u001B[39;49m\u001B[38;5;124;43m'\u001B[39;49m\u001B[38;5;124;43m from Date::TIMESTAMP))\u001B[39;49m\n\u001B[1;32m    258\u001B[0m \u001B[38;5;124;43m                )::INTEGER AS month, \u001B[39;49m\n\u001B[1;32m    259\u001B[0m \u001B[38;5;124;43m                Code AS code, \u001B[39;49m\n\u001B[1;32m    260\u001B[0m \u001B[38;5;124;43m                Code_Type AS code_type, \u001B[39;49m\n\u001B[1;32m    261\u001B[0m \u001B[38;5;124;43m                IndexDate::TIMESTAMP AS index_date, \u001B[39;49m\n\u001B[1;32m    262\u001B[0m \u001B[38;5;124;43m                CodeWithType as code_with_type,\u001B[39;49m\n\u001B[1;32m    263\u001B[0m \u001B[38;5;124;43m                COUNT(DISTINCT study_id) OVER (PARTITION BY code_with_type) AS subject_count\u001B[39;49m\n\u001B[1;32m    264\u001B[0m \u001B[38;5;124;43m            FROM read_csv(\u001B[39;49m\u001B[38;5;124;43m'\u001B[39;49m\u001B[38;5;132;43;01m{\u001B[39;49;00m\u001B[43mfile_path\u001B[49m\u001B[38;5;132;43;01m}\u001B[39;49;00m\u001B[38;5;124;43m'\u001B[39;49m\u001B[38;5;124;43m, delim=\u001B[39;49m\u001B[38;5;124;43m'\u001B[39;49m\u001B[38;5;124;43m|\u001B[39;49m\u001B[38;5;124;43m'\u001B[39;49m\u001B[38;5;124;43m, header=TRUE) \u001B[39;49m\n\u001B[1;32m    265\u001B[0m \u001B[38;5;124;43m            WHERE \u001B[39;49m\n\u001B[1;32m    266\u001B[0m \u001B[38;5;124;43m                (IndexDate::TIMESTAMP - Date::TIMESTAMP BETWEEN INTERVAL \u001B[39;49m\u001B[38;5;124;43m'\u001B[39;49m\u001B[38;5;124;43m1 month\u001B[39;49m\u001B[38;5;124;43m'\u001B[39;49m\u001B[38;5;124;43m AND INTERVAL \u001B[39;49m\u001B[38;5;124;43m'\u001B[39;49m\u001B[38;5;132;43;01m{\u001B[39;49;00m\u001B[43mlimit_months\u001B[49m\u001B[38;5;132;43;01m}\u001B[39;49;00m\u001B[38;5;124;43m months\u001B[39;49m\u001B[38;5;124;43m'\u001B[39;49m\u001B[38;5;124;43m OR \u001B[39;49m\u001B[38;5;132;43;01m{\u001B[39;49;00m\u001B[43mlimit_months\u001B[49m\u001B[38;5;132;43;01m}\u001B[39;49;00m\u001B[38;5;124;43m = 0)\u001B[39;49m\n\u001B[1;32m    267\u001B[0m \u001B[38;5;124;43m        )\u001B[39;49m\n\u001B[1;32m    268\u001B[0m \u001B[38;5;124;43m        SELECT * \u001B[39;49m\n\u001B[1;32m    269\u001B[0m \u001B[38;5;124;43m        FROM data\u001B[39;49m\n\u001B[1;32m    270\u001B[0m \u001B[38;5;124;43m        WHERE (subject_count >= \u001B[39;49m\u001B[38;5;132;43;01m{\u001B[39;49;00m\u001B[43mlimit_count\u001B[49m\u001B[38;5;132;43;01m}\u001B[39;49;00m\u001B[38;5;124;43m OR \u001B[39;49m\u001B[38;5;132;43;01m{\u001B[39;49;00m\u001B[43mlimit_count\u001B[49m\u001B[38;5;132;43;01m}\u001B[39;49;00m\u001B[38;5;124;43m = 0);\u001B[39;49m\n\u001B[1;32m    271\u001B[0m \u001B[38;5;124;43m    \u001B[39;49m\u001B[38;5;124;43m\"\"\"\u001B[39;49m\u001B[43m)\u001B[49m\n",
      "\u001B[0;31mBinderException\u001B[0m: Binder Error: Referenced column \"IndexDate\" not found in FROM clause!\nCandidate bindings: \"read_csv.column0\"\nLINE 18:                 (IndexDate::TIMESTAMP - Date::TIMESTAMP BETWEEN INTERVAL '1 month' AND INTERVAL '36 months' OR 36 = 0)\n        )\n        SELECT * \n        FROM data\n        WHERE (subject_count >= 0.0 OR 0.0 = 0);\n    ...\n                          ^"
     ]
    }
   ],
   "execution_count": 12
  },
  {
   "cell_type": "code",
   "metadata": {
    "ExecuteTime": {
     "end_time": "2025-03-06T12:41:41.822364Z",
     "start_time": "2025-03-06T12:16:59.736802Z"
    }
   },
   "source": [
    "# train model RNN\n",
    "from train import train_ds\n",
    "\n",
    "args = {\n",
    "    'run_name': 'rnn_attention',\n",
    "    'save_path': '/data/mpetkevich/readmissions/models/final_jupyter/rnn.model',\n",
    "    'dataset_path': '/data/mpetkevich/readmissions/data/final_data',\n",
    "    'epochs': 35,\n",
    "    'batch_size': 32,\n",
    "    'learning_rate': 0.0001,\n",
    "    'use_attention': True,\n",
    "    'model_type': 'RNN',\n",
    "    'tcn_layers': [16, 32,64],\n",
    "    'kernel_size': 3,\n",
    "    'padding': 1,\n",
    "    'rnn_layers': 3,\n",
    "    'rnn_hidden_size': 64,\n",
    "}\n",
    "\n",
    "\n",
    "train_ds(\n",
    "    run_name=args['run_name'],\n",
    "    save_path=args['save_path'],\n",
    "    ds_path=args['dataset_path'],\n",
    "    num_epochs=args['epochs'],\n",
    "    batch_size=args['batch_size'],\n",
    "    lr=args['learning_rate'],\n",
    "    model_type=args['model_type'],\n",
    "    use_attention=args['use_attention'],\n",
    "    tcn_layers=args['tcn_layers'],\n",
    "    kernel_size=args['kernel_size'],\n",
    "    padding=args['padding'],\n",
    "    rnn_layers=args['rnn_layers'],\n",
    "    rnn_hidden_dim=args['rnn_hidden_size'],\n",
    ")\n"
   ],
   "outputs": [
    {
     "name": "stdout",
     "output_type": "stream",
     "text": [
      "will run: rnn_attention\n",
      "run_name: rnn_attention, project: diabetes_gc_rnn\n"
     ]
    },
    {
     "name": "stderr",
     "output_type": "stream",
     "text": [
      "Trainer will use only 1 of 3 GPUs because it is running inside an interactive / notebook environment. You may try to set `Trainer(devices=3)` but please note that multi-GPU inside interactive / notebook environments is considered experimental and unstable. Your mileage may vary.\n",
      "GPU available: True (cuda), used: True\n",
      "TPU available: False, using: 0 TPU cores\n",
      "HPU available: False, using: 0 HPUs\n",
      "You are using a CUDA device ('NVIDIA RTX 6000 Ada Generation') that has Tensor Cores. To properly utilize them, you should set `torch.set_float32_matmul_precision('medium' | 'high')` which will trade-off precision for performance. For more details, read https://pytorch.org/docs/stable/generated/torch.set_float32_matmul_precision.html#torch.set_float32_matmul_precision\n",
      "\u001B[34m\u001B[1mwandb\u001B[0m: Currently logged in as: \u001B[33mmpetkevich\u001B[0m (\u001B[33mmpetkevich-my\u001B[0m). Use \u001B[1m`wandb login --relogin`\u001B[0m to force relogin\n"
     ]
    },
    {
     "data": {
      "text/plain": [
       "<IPython.core.display.HTML object>"
      ],
      "text/html": [
       "wandb version 0.19.8 is available!  To upgrade, please run:\n",
       " $ pip install wandb --upgrade"
      ]
     },
     "metadata": {},
     "output_type": "display_data"
    },
    {
     "data": {
      "text/plain": [
       "<IPython.core.display.HTML object>"
      ],
      "text/html": [
       "Tracking run with wandb version 0.16.6"
      ]
     },
     "metadata": {},
     "output_type": "display_data"
    },
    {
     "data": {
      "text/plain": [
       "<IPython.core.display.HTML object>"
      ],
      "text/html": [
       "Run data is saved locally in <code>./wandb/run-20250306_071704-ujlr6czj</code>"
      ]
     },
     "metadata": {},
     "output_type": "display_data"
    },
    {
     "data": {
      "text/plain": [
       "<IPython.core.display.HTML object>"
      ],
      "text/html": [
       "Syncing run <strong><a href='https://wandb.ai/mpetkevich-my/diabetes_gc_rnn/runs/ujlr6czj' target=\"_blank\">rnn_attention</a></strong> to <a href='https://wandb.ai/mpetkevich-my/diabetes_gc_rnn' target=\"_blank\">Weights & Biases</a> (<a href='https://wandb.me/run' target=\"_blank\">docs</a>)<br/>"
      ]
     },
     "metadata": {},
     "output_type": "display_data"
    },
    {
     "data": {
      "text/plain": [
       "<IPython.core.display.HTML object>"
      ],
      "text/html": [
       " View project at <a href='https://wandb.ai/mpetkevich-my/diabetes_gc_rnn' target=\"_blank\">https://wandb.ai/mpetkevich-my/diabetes_gc_rnn</a>"
      ]
     },
     "metadata": {},
     "output_type": "display_data"
    },
    {
     "data": {
      "text/plain": [
       "<IPython.core.display.HTML object>"
      ],
      "text/html": [
       " View run at <a href='https://wandb.ai/mpetkevich-my/diabetes_gc_rnn/runs/ujlr6czj' target=\"_blank\">https://wandb.ai/mpetkevich-my/diabetes_gc_rnn/runs/ujlr6czj</a>"
      ]
     },
     "metadata": {},
     "output_type": "display_data"
    },
    {
     "name": "stderr",
     "output_type": "stream",
     "text": [
      "LOCAL_RANK: 0 - CUDA_VISIBLE_DEVICES: [0,1,2]\n",
      "\n",
      "  | Name      | Type                 | Params | Mode \n",
      "-----------------------------------------------------------\n",
      "0 | model     | RiskOfReadmissionRNN | 64.5 M | train\n",
      "1 | criterion | CrossEntropyLoss     | 0      | train\n",
      "2 | accuracy  | MulticlassAccuracy   | 0      | train\n",
      "3 | precision | MulticlassPrecision  | 0      | train\n",
      "4 | recall    | MulticlassRecall     | 0      | train\n",
      "5 | f1_score  | MulticlassF1Score    | 0      | train\n",
      "-----------------------------------------------------------\n",
      "64.5 M    Trainable params\n",
      "0         Non-trainable params\n",
      "64.5 M    Total params\n",
      "258.173   Total estimated model params size (MB)\n",
      "16        Modules in train mode\n",
      "0         Modules in eval mode\n"
     ]
    },
    {
     "data": {
      "text/plain": [
       "Sanity Checking: |          | 0/? [00:00<?, ?it/s]"
      ],
      "application/vnd.jupyter.widget-view+json": {
       "version_major": 2,
       "version_minor": 0,
       "model_id": "857d86d262c245ee861ef39d845d1e03"
      }
     },
     "metadata": {},
     "output_type": "display_data"
    },
    {
     "data": {
      "text/plain": [
       "Training: |          | 0/? [00:00<?, ?it/s]"
      ],
      "application/vnd.jupyter.widget-view+json": {
       "version_major": 2,
       "version_minor": 0,
       "model_id": "1f744c73ffe146ad8369a512dc746806"
      }
     },
     "metadata": {},
     "output_type": "display_data"
    },
    {
     "data": {
      "text/plain": [
       "Validation: |          | 0/? [00:00<?, ?it/s]"
      ],
      "application/vnd.jupyter.widget-view+json": {
       "version_major": 2,
       "version_minor": 0,
       "model_id": "c7e5c051e9af4e9fac19b5a44900c5b4"
      }
     },
     "metadata": {},
     "output_type": "display_data"
    },
    {
     "data": {
      "text/plain": [
       "Validation: |          | 0/? [00:00<?, ?it/s]"
      ],
      "application/vnd.jupyter.widget-view+json": {
       "version_major": 2,
       "version_minor": 0,
       "model_id": "bc5b5e1aebe9448e88ba4a439e452356"
      }
     },
     "metadata": {},
     "output_type": "display_data"
    },
    {
     "data": {
      "text/plain": [
       "Validation: |          | 0/? [00:00<?, ?it/s]"
      ],
      "application/vnd.jupyter.widget-view+json": {
       "version_major": 2,
       "version_minor": 0,
       "model_id": "bfd6ef794fe542e0a14e4ee16bad06c9"
      }
     },
     "metadata": {},
     "output_type": "display_data"
    },
    {
     "data": {
      "text/plain": [
       "Validation: |          | 0/? [00:00<?, ?it/s]"
      ],
      "application/vnd.jupyter.widget-view+json": {
       "version_major": 2,
       "version_minor": 0,
       "model_id": "e4de6687f5a1442a81b63dbb456893e7"
      }
     },
     "metadata": {},
     "output_type": "display_data"
    },
    {
     "data": {
      "text/plain": [
       "Validation: |          | 0/? [00:00<?, ?it/s]"
      ],
      "application/vnd.jupyter.widget-view+json": {
       "version_major": 2,
       "version_minor": 0,
       "model_id": "31ccc379343d4b4786f35305e2780e15"
      }
     },
     "metadata": {},
     "output_type": "display_data"
    },
    {
     "data": {
      "text/plain": [
       "Validation: |          | 0/? [00:00<?, ?it/s]"
      ],
      "application/vnd.jupyter.widget-view+json": {
       "version_major": 2,
       "version_minor": 0,
       "model_id": "8135aa1cb3f4442cb40c5d852197b0ec"
      }
     },
     "metadata": {},
     "output_type": "display_data"
    },
    {
     "data": {
      "text/plain": [
       "Validation: |          | 0/? [00:00<?, ?it/s]"
      ],
      "application/vnd.jupyter.widget-view+json": {
       "version_major": 2,
       "version_minor": 0,
       "model_id": "b58adb5bab2643b485ea457c42fa8b45"
      }
     },
     "metadata": {},
     "output_type": "display_data"
    },
    {
     "data": {
      "text/plain": [
       "Validation: |          | 0/? [00:00<?, ?it/s]"
      ],
      "application/vnd.jupyter.widget-view+json": {
       "version_major": 2,
       "version_minor": 0,
       "model_id": "883ec1b24a1c42b6b2cd2d49f761daaa"
      }
     },
     "metadata": {},
     "output_type": "display_data"
    },
    {
     "data": {
      "text/plain": [
       "Validation: |          | 0/? [00:00<?, ?it/s]"
      ],
      "application/vnd.jupyter.widget-view+json": {
       "version_major": 2,
       "version_minor": 0,
       "model_id": "a91dd7f008484bb195b20535802e0bb8"
      }
     },
     "metadata": {},
     "output_type": "display_data"
    },
    {
     "data": {
      "text/plain": [
       "Validation: |          | 0/? [00:00<?, ?it/s]"
      ],
      "application/vnd.jupyter.widget-view+json": {
       "version_major": 2,
       "version_minor": 0,
       "model_id": "74f51c9b153243e9804ff662d05151a5"
      }
     },
     "metadata": {},
     "output_type": "display_data"
    },
    {
     "data": {
      "text/plain": [
       "Validation: |          | 0/? [00:00<?, ?it/s]"
      ],
      "application/vnd.jupyter.widget-view+json": {
       "version_major": 2,
       "version_minor": 0,
       "model_id": "9d38d50d74b344829542f091feeded86"
      }
     },
     "metadata": {},
     "output_type": "display_data"
    },
    {
     "data": {
      "text/plain": [
       "Validation: |          | 0/? [00:00<?, ?it/s]"
      ],
      "application/vnd.jupyter.widget-view+json": {
       "version_major": 2,
       "version_minor": 0,
       "model_id": "a5c1b26db2fa414ba174ff61b9913a4d"
      }
     },
     "metadata": {},
     "output_type": "display_data"
    },
    {
     "data": {
      "text/plain": [
       "Validation: |          | 0/? [00:00<?, ?it/s]"
      ],
      "application/vnd.jupyter.widget-view+json": {
       "version_major": 2,
       "version_minor": 0,
       "model_id": "476eefafe1c74b8bb94241b681225975"
      }
     },
     "metadata": {},
     "output_type": "display_data"
    },
    {
     "data": {
      "text/plain": [
       "Validation: |          | 0/? [00:00<?, ?it/s]"
      ],
      "application/vnd.jupyter.widget-view+json": {
       "version_major": 2,
       "version_minor": 0,
       "model_id": "6d747827c3a24e99a11eb3a424c56efd"
      }
     },
     "metadata": {},
     "output_type": "display_data"
    },
    {
     "data": {
      "text/plain": [
       "Validation: |          | 0/? [00:00<?, ?it/s]"
      ],
      "application/vnd.jupyter.widget-view+json": {
       "version_major": 2,
       "version_minor": 0,
       "model_id": "bea1e125bec343f49a669608724a9502"
      }
     },
     "metadata": {},
     "output_type": "display_data"
    },
    {
     "data": {
      "text/plain": [
       "Validation: |          | 0/? [00:00<?, ?it/s]"
      ],
      "application/vnd.jupyter.widget-view+json": {
       "version_major": 2,
       "version_minor": 0,
       "model_id": "9c881d863f1b436c9d5b147d60021e49"
      }
     },
     "metadata": {},
     "output_type": "display_data"
    },
    {
     "data": {
      "text/plain": [
       "Validation: |          | 0/? [00:00<?, ?it/s]"
      ],
      "application/vnd.jupyter.widget-view+json": {
       "version_major": 2,
       "version_minor": 0,
       "model_id": "5449504d3ec045be87c7d49be0373262"
      }
     },
     "metadata": {},
     "output_type": "display_data"
    },
    {
     "data": {
      "text/plain": [
       "Validation: |          | 0/? [00:00<?, ?it/s]"
      ],
      "application/vnd.jupyter.widget-view+json": {
       "version_major": 2,
       "version_minor": 0,
       "model_id": "75fd30c094f842f7b61cab951d6efd21"
      }
     },
     "metadata": {},
     "output_type": "display_data"
    },
    {
     "data": {
      "text/plain": [
       "Validation: |          | 0/? [00:00<?, ?it/s]"
      ],
      "application/vnd.jupyter.widget-view+json": {
       "version_major": 2,
       "version_minor": 0,
       "model_id": "ca3b14298d444bfca67a8eb6cfaca583"
      }
     },
     "metadata": {},
     "output_type": "display_data"
    },
    {
     "data": {
      "text/plain": [
       "Validation: |          | 0/? [00:00<?, ?it/s]"
      ],
      "application/vnd.jupyter.widget-view+json": {
       "version_major": 2,
       "version_minor": 0,
       "model_id": "d18831e4435e4998a727a6973bd7154f"
      }
     },
     "metadata": {},
     "output_type": "display_data"
    },
    {
     "data": {
      "text/plain": [
       "Validation: |          | 0/? [00:00<?, ?it/s]"
      ],
      "application/vnd.jupyter.widget-view+json": {
       "version_major": 2,
       "version_minor": 0,
       "model_id": "66455e998d544648894aaa9cc177f174"
      }
     },
     "metadata": {},
     "output_type": "display_data"
    },
    {
     "data": {
      "text/plain": [
       "Validation: |          | 0/? [00:00<?, ?it/s]"
      ],
      "application/vnd.jupyter.widget-view+json": {
       "version_major": 2,
       "version_minor": 0,
       "model_id": "9b7b5dfdb2d14b26b40ccc949e0803ce"
      }
     },
     "metadata": {},
     "output_type": "display_data"
    },
    {
     "data": {
      "text/plain": [
       "Validation: |          | 0/? [00:00<?, ?it/s]"
      ],
      "application/vnd.jupyter.widget-view+json": {
       "version_major": 2,
       "version_minor": 0,
       "model_id": "db62bc7df4b348c796324269a880c1ab"
      }
     },
     "metadata": {},
     "output_type": "display_data"
    },
    {
     "data": {
      "text/plain": [
       "Validation: |          | 0/? [00:00<?, ?it/s]"
      ],
      "application/vnd.jupyter.widget-view+json": {
       "version_major": 2,
       "version_minor": 0,
       "model_id": "1a73ba1b19b244629a82ac147505081b"
      }
     },
     "metadata": {},
     "output_type": "display_data"
    },
    {
     "data": {
      "text/plain": [
       "Validation: |          | 0/? [00:00<?, ?it/s]"
      ],
      "application/vnd.jupyter.widget-view+json": {
       "version_major": 2,
       "version_minor": 0,
       "model_id": "a5f14e7767d44dd09d3a1d4983327d3a"
      }
     },
     "metadata": {},
     "output_type": "display_data"
    },
    {
     "data": {
      "text/plain": [
       "Validation: |          | 0/? [00:00<?, ?it/s]"
      ],
      "application/vnd.jupyter.widget-view+json": {
       "version_major": 2,
       "version_minor": 0,
       "model_id": "04afbe53ebdc40dd8fe6818cba1c4de7"
      }
     },
     "metadata": {},
     "output_type": "display_data"
    },
    {
     "data": {
      "text/plain": [
       "Validation: |          | 0/? [00:00<?, ?it/s]"
      ],
      "application/vnd.jupyter.widget-view+json": {
       "version_major": 2,
       "version_minor": 0,
       "model_id": "5fd11f96487149e48dc514dd30e96fab"
      }
     },
     "metadata": {},
     "output_type": "display_data"
    },
    {
     "data": {
      "text/plain": [
       "Validation: |          | 0/? [00:00<?, ?it/s]"
      ],
      "application/vnd.jupyter.widget-view+json": {
       "version_major": 2,
       "version_minor": 0,
       "model_id": "5da53620756f4f1a872b94722c643d78"
      }
     },
     "metadata": {},
     "output_type": "display_data"
    },
    {
     "data": {
      "text/plain": [
       "Validation: |          | 0/? [00:00<?, ?it/s]"
      ],
      "application/vnd.jupyter.widget-view+json": {
       "version_major": 2,
       "version_minor": 0,
       "model_id": "a76fe3e48b7f46e9aefb589cfdba8b1d"
      }
     },
     "metadata": {},
     "output_type": "display_data"
    },
    {
     "data": {
      "text/plain": [
       "Validation: |          | 0/? [00:00<?, ?it/s]"
      ],
      "application/vnd.jupyter.widget-view+json": {
       "version_major": 2,
       "version_minor": 0,
       "model_id": "93ae58fa12ee43d7ab95dedbd5789765"
      }
     },
     "metadata": {},
     "output_type": "display_data"
    },
    {
     "data": {
      "text/plain": [
       "Validation: |          | 0/? [00:00<?, ?it/s]"
      ],
      "application/vnd.jupyter.widget-view+json": {
       "version_major": 2,
       "version_minor": 0,
       "model_id": "7d0d5b37568f4a1eb536a97d1bcf489f"
      }
     },
     "metadata": {},
     "output_type": "display_data"
    },
    {
     "data": {
      "text/plain": [
       "Validation: |          | 0/? [00:00<?, ?it/s]"
      ],
      "application/vnd.jupyter.widget-view+json": {
       "version_major": 2,
       "version_minor": 0,
       "model_id": "4b40105a7c3a4cfb852624aea7628906"
      }
     },
     "metadata": {},
     "output_type": "display_data"
    },
    {
     "data": {
      "text/plain": [
       "Validation: |          | 0/? [00:00<?, ?it/s]"
      ],
      "application/vnd.jupyter.widget-view+json": {
       "version_major": 2,
       "version_minor": 0,
       "model_id": "99b54882118d415399209718f7b0298f"
      }
     },
     "metadata": {},
     "output_type": "display_data"
    },
    {
     "data": {
      "text/plain": [
       "Validation: |          | 0/? [00:00<?, ?it/s]"
      ],
      "application/vnd.jupyter.widget-view+json": {
       "version_major": 2,
       "version_minor": 0,
       "model_id": "78932fa96bd246bcb4fe7ef584a44cbf"
      }
     },
     "metadata": {},
     "output_type": "display_data"
    },
    {
     "data": {
      "text/plain": [
       "Validation: |          | 0/? [00:00<?, ?it/s]"
      ],
      "application/vnd.jupyter.widget-view+json": {
       "version_major": 2,
       "version_minor": 0,
       "model_id": "d0745f4ec12e49b9a4b8f9a520f30c68"
      }
     },
     "metadata": {},
     "output_type": "display_data"
    },
    {
     "name": "stderr",
     "output_type": "stream",
     "text": [
      "`Trainer.fit` stopped: `max_epochs=35` reached.\n",
      "LOCAL_RANK: 0 - CUDA_VISIBLE_DEVICES: [0,1,2]\n"
     ]
    },
    {
     "data": {
      "text/plain": [
       "Testing: |          | 0/? [00:00<?, ?it/s]"
      ],
      "application/vnd.jupyter.widget-view+json": {
       "version_major": 2,
       "version_minor": 0,
       "model_id": "ddfbe5a93ea748349e4f426ee727a551"
      }
     },
     "metadata": {},
     "output_type": "display_data"
    },
    {
     "name": "stdout",
     "output_type": "stream",
     "text": [
      "────────────────────────────────────────────────────────────────────────────────────────────────────────────────────────\n",
      "       Test metric             DataLoader 0\n",
      "────────────────────────────────────────────────────────────────────────────────────────────────────────────────────────\n",
      "      test_accuracy         0.5856485366821289\n",
      "         test_f1            0.5856485366821289\n",
      "        test_loss            2.745495319366455\n",
      "     test_precision         0.5856485366821289\n",
      "       test_recall          0.5856485366821289\n",
      "────────────────────────────────────────────────────────────────────────────────────────────────────────────────────────\n"
     ]
    }
   ],
   "execution_count": 8
  }
 ],
 "metadata": {
  "kernelspec": {
   "display_name": "Python 3 (ipykernel)",
   "language": "python",
   "name": "python3"
  },
  "language_info": {
   "codemirror_mode": {
    "name": "ipython",
    "version": 3
   },
   "file_extension": ".py",
   "mimetype": "text/x-python",
   "name": "python",
   "nbconvert_exporter": "python",
   "pygments_lexer": "ipython3",
   "version": "3.10.12"
  }
 },
 "nbformat": 4,
 "nbformat_minor": 2
}
