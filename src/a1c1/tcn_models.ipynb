{
 "cells": [
  {
   "cell_type": "markdown",
   "metadata": {},
   "source": [
    "# TCN Models for readmission and Glycemic control"
   ]
  },
  {
   "cell_type": "code",
   "execution_count": 5,
   "metadata": {},
   "outputs": [
    {
     "name": "stdout",
     "output_type": "stream",
     "text": [
      "PyTorch version: 2.4.0\n",
      "Is MPS (Metal Performance Shader) built? True\n",
      "Is MPS available? True\n"
     ]
    }
   ],
   "source": [
    "import torch\n",
    "from torch import nn\n",
    "from tcn import GlycemicControl\n",
    "\n",
    "print(f\"PyTorch version: {torch.__version__}\")\n",
    "\n",
    "# Check PyTorch has access to MPS (Metal Performance Shader, Apple's GPU architecture)\n",
    "print(f\"Is MPS (Metal Performance Shader) built? {torch.backends.mps.is_built()}\")\n",
    "print(f\"Is MPS available? {torch.backends.mps.is_available()}\")\n",
    "\n",
    "\n",
    "gcModel = GlycemicControl(\n",
    "    static_feature_dim=24, # static feature dimension \n",
    "    dynamic_feature_dim=123, # dynamic feature dimension, labs, medications, vitals\n",
    "    sequence_length=36,  # sequence length 3 years by month\n",
    "    tcn_channels=[16, 32,64],  # list of integers with the number of channels in each layer\n",
    "    kernel_size=3,\n",
    "    padding=1,\n",
    "    static_hidden_dim=12,\n",
    "    combined_hidden_dim=128,\n",
    "    use_attention=False\n",
    ")\n",
    "\n",
    "\n",
    "\n"
   ]
  },
  {
   "cell_type": "code",
   "execution_count": 6,
   "metadata": {},
   "outputs": [
    {
     "name": "stdout",
     "output_type": "stream",
     "text": [
      "GlycemicControl(\n",
      "  (tcn_with_attention): TCNWithAttention(\n",
      "    (attention): SelfAttention(\n",
      "      (query): Linear(in_features=123, out_features=123, bias=True)\n",
      "      (key): Linear(in_features=123, out_features=123, bias=True)\n",
      "      (value): Linear(in_features=123, out_features=123, bias=True)\n",
      "    )\n",
      "    (tcn_layers): ModuleList(\n",
      "      (0): Conv1d(123, 16, kernel_size=(3,), stride=(1,), padding=(1,))\n",
      "      (1): Conv1d(16, 32, kernel_size=(3,), stride=(1,), padding=(1,))\n",
      "      (2): Conv1d(32, 64, kernel_size=(3,), stride=(1,), padding=(1,))\n",
      "    )\n",
      "    (fc_static): Linear(in_features=24, out_features=12, bias=True)\n",
      "    (dropout_static): Dropout(p=0.5, inplace=False)\n",
      "    (fc_combined): Linear(in_features=2316, out_features=128, bias=True)\n",
      "    (dropout_combined): Dropout(p=0.5, inplace=False)\n",
      "    (classifier): Linear(in_features=128, out_features=2, bias=True)\n",
      "  )\n",
      ")\n"
     ]
    }
   ],
   "source": [
    "print(gcModel)\n",
    "\n"
   ]
  },
  {
   "cell_type": "code",
   "execution_count": 9,
   "metadata": {},
   "outputs": [
    {
     "data": {
      "text/plain": [
       "'models'"
      ]
     },
     "execution_count": 9,
     "metadata": {},
     "output_type": "execute_result"
    }
   ],
   "source": [
    "import pathlib\n",
    "\n",
    "pp = pathlib.Path(\"src/models\")\n",
    "pp.name"
   ]
  },
  {
   "cell_type": "code",
   "execution_count": 8,
   "metadata": {},
   "outputs": [
    {
     "data": {
      "text/plain": [
       "'--------------------------------------------------------------------------\\n         Layer (type)        Output Shape         Param #     Tr. Param #\\n==========================================================================\\n   TCNWithAttention-1              [5, 2]         356,586         356,586\\n==========================================================================\\nTotal params: 356,586\\nTrainable params: 356,586\\nNon-trainable params: 0\\n--------------------------------------------------------------------------'"
      ]
     },
     "execution_count": 8,
     "metadata": {},
     "output_type": "execute_result"
    }
   ],
   "source": [
    "from pytorch_model_summary import summary\n",
    "\n",
    "summary(gcModel, torch.zeros((5, 24)), torch.zeros((5, 36, 123)))"
   ]
  },
  {
   "cell_type": "markdown",
   "metadata": {},
   "source": []
  }
 ],
 "metadata": {
  "kernelspec": {
   "display_name": "esgpt",
   "language": "python",
   "name": "python3"
  },
  "language_info": {
   "codemirror_mode": {
    "name": "ipython",
    "version": 3
   },
   "file_extension": ".py",
   "mimetype": "text/x-python",
   "name": "python",
   "nbconvert_exporter": "python",
   "pygments_lexer": "ipython3",
   "version": "3.11.9"
  }
 },
 "nbformat": 4,
 "nbformat_minor": 2
}
