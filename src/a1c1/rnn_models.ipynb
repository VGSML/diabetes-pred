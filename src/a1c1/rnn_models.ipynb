{
 "cells": [
  {
   "cell_type": "code",
   "execution_count": 1,
   "metadata": {},
   "outputs": [
    {
     "name": "stdout",
     "output_type": "stream",
     "text": [
      "torch version: 2.4.0\n",
      "Is MPS (Metal Performance Shader) built? True\n",
      "Is MPS available? True\n"
     ]
    }
   ],
   "source": [
    "import torch\n",
    "from torch import nn\n",
    "from rnn import GlycemicControlRNN\n",
    "\n",
    "print(f\"torch version: {torch.__version__}\")\n",
    "\n",
    "# Check PyTorch has access to MPS (Metal Performance Shader, Apple's GPU architecture)\n",
    "print(f\"Is MPS (Metal Performance Shader) built? {torch.backends.mps.is_built()}\")\n",
    "print(f\"Is MPS available? {torch.backends.mps.is_available()}\")\n",
    "\n",
    "\n",
    "gcModel = GlycemicControlRNN(static_feature_dim=24, dynamic_feature_dim=4096, hidden_dim=64, num_layers=3, use_attention=True)"
   ]
  },
  {
   "cell_type": "code",
   "execution_count": 2,
   "metadata": {},
   "outputs": [
    {
     "name": "stdout",
     "output_type": "stream",
     "text": [
      "GlycemicControlRNN(\n",
      "  (rnn_with_attention): RNNWithAttention(\n",
      "    (rnn): LSTM(4096, 64, num_layers=3, batch_first=True)\n",
      "    (fc_static): Linear(in_features=24, out_features=64, bias=True)\n",
      "    (fc_combined): Linear(in_features=128, out_features=64, bias=True)\n",
      "    (classifier): Linear(in_features=64, out_features=2, bias=True)\n",
      "    (dropout): Dropout(p=0.5, inplace=False)\n",
      "  )\n",
      ")\n"
     ]
    }
   ],
   "source": [
    "print(gcModel)"
   ]
  },
  {
   "cell_type": "code",
   "execution_count": 2,
   "metadata": {},
   "outputs": [
    {
     "data": {
      "text/plain": [
       "'--------------------------------------------------------------------------\\n         Layer (type)        Output Shape         Param #     Tr. Param #\\n==========================================================================\\n   RNNWithAttention-1              [5, 2]      51,485,954      51,485,954\\n==========================================================================\\nTotal params: 51,485,954\\nTrainable params: 51,485,954\\nNon-trainable params: 0\\n--------------------------------------------------------------------------'"
      ]
     },
     "execution_count": 2,
     "metadata": {},
     "output_type": "execute_result"
    }
   ],
   "source": [
    "from pytorch_model_summary import summary\n",
    "\n",
    "summary(gcModel, torch.zeros((5, 24)), torch.zeros((5, 36, 4096)))"
   ]
  },
  {
   "cell_type": "code",
   "execution_count": 3,
   "metadata": {},
   "outputs": [
    {
     "name": "stdout",
     "output_type": "stream",
     "text": [
      "torch.Size([32, 2])\n"
     ]
    }
   ],
   "source": [
    "# Пример данных\n",
    "batch_size = 32\n",
    "static_feature_dim = 40\n",
    "dynamic_feature_dim = 4000\n",
    "sequence_length = 36\n",
    "\n",
    "# Создание модели\n",
    "model = GlycemicControlRNN(\n",
    "    static_feature_dim=static_feature_dim,\n",
    "    dynamic_feature_dim=dynamic_feature_dim,\n",
    "    sequence_length=sequence_length,\n",
    "    num_layers=3,\n",
    "    hidden_dim=64,\n",
    "    use_attention=True\n",
    ")\n",
    "\n",
    "# Входные данные\n",
    "static_data = torch.randn(batch_size, static_feature_dim)\n",
    "dynamic_data = torch.randn(batch_size, sequence_length, dynamic_feature_dim)\n",
    "\n",
    "# Прямой проход\n",
    "output = model(static_data, dynamic_data)\n",
    "print(output.shape)"
   ]
  }
 ],
 "metadata": {
  "kernelspec": {
   "display_name": "esgpt",
   "language": "python",
   "name": "python3"
  },
  "language_info": {
   "codemirror_mode": {
    "name": "ipython",
    "version": 3
   },
   "file_extension": ".py",
   "mimetype": "text/x-python",
   "name": "python",
   "nbconvert_exporter": "python",
   "pygments_lexer": "ipython3",
   "version": "3.11.9"
  }
 },
 "nbformat": 4,
 "nbformat_minor": 2
}
